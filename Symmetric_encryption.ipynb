{
  "nbformat": 4,
  "nbformat_minor": 0,
  "metadata": {
    "colab": {
      "provenance": []
    },
    "kernelspec": {
      "name": "python3",
      "display_name": "Python 3"
    },
    "language_info": {
      "name": "python"
    }
  },
  "cells": [
    {
      "cell_type": "markdown",
      "source": [
        "**File encryption & decryption using the cryptography library.**"
      ],
      "metadata": {
        "id": "qerjAMwUVwjg"
      }
    },
    {
      "cell_type": "markdown",
      "source": [
        "**Encryption process**"
      ],
      "metadata": {
        "id": "s3HG-a1scc3z"
      }
    },
    {
      "cell_type": "code",
      "execution_count": null,
      "metadata": {
        "colab": {
          "base_uri": "https://localhost:8080/"
        },
        "id": "WMt_OOW_VOFP",
        "outputId": "e11e14b3-ed20-45aa-a5b2-76e30fb448a8"
      },
      "outputs": [
        {
          "output_type": "stream",
          "name": "stdout",
          "text": [
            "Requirement already satisfied: cryptography in /usr/local/lib/python3.10/dist-packages (42.0.5)\n",
            "Requirement already satisfied: cffi>=1.12 in /usr/local/lib/python3.10/dist-packages (from cryptography) (1.16.0)\n",
            "Requirement already satisfied: pycparser in /usr/local/lib/python3.10/dist-packages (from cffi>=1.12->cryptography) (2.22)\n"
          ]
        }
      ],
      "source": [
        "!pip install cryptography"
      ]
    },
    {
      "cell_type": "code",
      "source": [
        "from cryptography.fernet import Fernet"
      ],
      "metadata": {
        "id": "gH74OVlZWTti"
      },
      "execution_count": null,
      "outputs": []
    },
    {
      "cell_type": "code",
      "source": [
        "#key = Fernet.generate_key()"
      ],
      "metadata": {
        "id": "u_xGlQNjXaou"
      },
      "execution_count": null,
      "outputs": []
    },
    {
      "cell_type": "code",
      "source": [
        "#with open('mykey.key', 'wb') as mykey:\n",
        "  #mykey.write(key)"
      ],
      "metadata": {
        "id": "KW2LzTVVXgQ8"
      },
      "execution_count": null,
      "outputs": []
    },
    {
      "cell_type": "code",
      "source": [
        "with open('mykey.key', 'rb') as mykey:\n",
        "  key = mykey.read()"
      ],
      "metadata": {
        "id": "Z20Y_8pwYFme"
      },
      "execution_count": null,
      "outputs": []
    },
    {
      "cell_type": "code",
      "source": [
        "print(key)"
      ],
      "metadata": {
        "colab": {
          "base_uri": "https://localhost:8080/"
        },
        "id": "rNCY3lzBYSaA",
        "outputId": "e1498d14-97c1-444b-b5e1-de1f10db4b73"
      },
      "execution_count": null,
      "outputs": [
        {
          "output_type": "stream",
          "name": "stdout",
          "text": [
            "b'4jphvfG4N5OXWUp5qmM0Mtgfs8-2TnDk_7zam_lYVmE='\n"
          ]
        }
      ]
    },
    {
      "cell_type": "markdown",
      "source": [
        "**Initialize the Fernet object and pass the key & store the variable locally**"
      ],
      "metadata": {
        "id": "2mAa3WKmZCun"
      }
    },
    {
      "cell_type": "code",
      "source": [
        "f = Fernet(key)"
      ],
      "metadata": {
        "id": "lPHROnTqZKT3"
      },
      "execution_count": null,
      "outputs": []
    },
    {
      "cell_type": "code",
      "source": [
        "with open('grades.csv.xlsx', 'rb') as original_file:\n",
        "  original = original_file.read()"
      ],
      "metadata": {
        "id": "5Xap1vhSZNlq"
      },
      "execution_count": null,
      "outputs": []
    },
    {
      "cell_type": "code",
      "source": [
        "encrypted = f.encrypt(original)"
      ],
      "metadata": {
        "id": "46zUHhvCb6WQ"
      },
      "execution_count": null,
      "outputs": []
    },
    {
      "cell_type": "code",
      "source": [
        "with open('enc_grades.csv', 'wb') as encrypted_file:\n",
        "  encrypted_file.write(encrypted)"
      ],
      "metadata": {
        "id": "2byPZzgvcDsK"
      },
      "execution_count": null,
      "outputs": []
    },
    {
      "cell_type": "markdown",
      "source": [
        "**Decryption process**"
      ],
      "metadata": {
        "id": "NhuizsP3cfkI"
      }
    },
    {
      "cell_type": "code",
      "source": [
        "f = Fernet(key)"
      ],
      "metadata": {
        "id": "lt3nsSqFcht5"
      },
      "execution_count": null,
      "outputs": []
    },
    {
      "cell_type": "code",
      "source": [
        "with open('enc_grades.csv', 'rb') as encrypted_file:\n",
        "  encrypted = encrypted_file.read()"
      ],
      "metadata": {
        "id": "BGPJ6KI8cpwA"
      },
      "execution_count": null,
      "outputs": []
    },
    {
      "cell_type": "code",
      "source": [
        "decrypted = f.decrypt(encrypted)"
      ],
      "metadata": {
        "id": "E4tJAGsbd2NF"
      },
      "execution_count": null,
      "outputs": []
    },
    {
      "cell_type": "code",
      "source": [
        "with open('dec_grades.csv.xlsx', 'wb')as decrypted_file:\n",
        "  decrypted_file.write(decrypted)"
      ],
      "metadata": {
        "id": "1MSi9QDZd_t8"
      },
      "execution_count": 21,
      "outputs": []
    }
  ]
}