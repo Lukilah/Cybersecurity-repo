{
  "nbformat": 4,
  "nbformat_minor": 0,
  "metadata": {
    "colab": {
      "provenance": []
    },
    "kernelspec": {
      "name": "python3",
      "display_name": "Python 3"
    },
    "language_info": {
      "name": "python"
    }
  },
  "cells": [
    {
      "cell_type": "markdown",
      "source": [
        "**The Encryption logic**"
      ],
      "metadata": {
        "id": "oCt7sIiDf9vJ"
      }
    },
    {
      "cell_type": "markdown",
      "source": [
        "**The code below is meant to show how caesar encryption works. By altering the shift variable we can see how the final \"encrypted\" output keeps changing.**"
      ],
      "metadata": {
        "id": "OGLMSByGppac"
      }
    },
    {
      "cell_type": "code",
      "execution_count": 16,
      "metadata": {
        "id": "Xy-vPI7kWQsl"
      },
      "outputs": [],
      "source": [
        "import string"
      ]
    },
    {
      "cell_type": "code",
      "source": [
        "plain_text = \"hello world\"\n",
        "\n",
        "shift = 5"
      ],
      "metadata": {
        "id": "wHfOZCGaaTmf"
      },
      "execution_count": 17,
      "outputs": []
    },
    {
      "cell_type": "code",
      "source": [
        "#have alphabet for the shift\n",
        "alphabet = string.ascii_lowercase\n",
        "\n",
        "shifted = alphabet[shift:] + alphabet[:shift]"
      ],
      "metadata": {
        "id": "95DRL4rabRuI"
      },
      "execution_count": 18,
      "outputs": []
    },
    {
      "cell_type": "code",
      "source": [
        "table = str.maketrans(alphabet, shifted)"
      ],
      "metadata": {
        "id": "CvjS1pSWb-j8"
      },
      "execution_count": 19,
      "outputs": []
    },
    {
      "cell_type": "code",
      "source": [
        "encrypted = plain_text.translate(table)"
      ],
      "metadata": {
        "id": "cpF2iOICetNB"
      },
      "execution_count": 20,
      "outputs": []
    },
    {
      "cell_type": "code",
      "source": [
        "print(encrypted)"
      ],
      "metadata": {
        "colab": {
          "base_uri": "https://localhost:8080/"
        },
        "id": "4KjFoK8Ke033",
        "outputId": "582e170b-2ce1-4cf2-be74-a98e8e2a27c8"
      },
      "execution_count": 21,
      "outputs": [
        {
          "output_type": "stream",
          "name": "stdout",
          "text": [
            "mjqqt btwqi\n"
          ]
        }
      ]
    },
    {
      "cell_type": "markdown",
      "source": [
        "**The Decryption part**"
      ],
      "metadata": {
        "id": "nkIngBtsgnr9"
      }
    },
    {
      "cell_type": "code",
      "source": [
        "plain_text = \"mjqqt btwqi\"\n",
        "\n",
        "shift = 26 - 5\n",
        "shift %= 26"
      ],
      "metadata": {
        "id": "QqqOn_l-gtif"
      },
      "execution_count": 22,
      "outputs": []
    },
    {
      "cell_type": "code",
      "source": [
        "alphabet = string.ascii_lowercase\n",
        "\n",
        "shifted = alphabet[shift:] + alphabet[:shift]"
      ],
      "metadata": {
        "id": "Au9l7uV3hCwY"
      },
      "execution_count": 23,
      "outputs": []
    },
    {
      "cell_type": "code",
      "source": [
        "table = str.maketrans(alphabet, shifted)"
      ],
      "metadata": {
        "id": "wR4G3XfchENA"
      },
      "execution_count": 24,
      "outputs": []
    },
    {
      "cell_type": "code",
      "source": [
        "encrypted = plain_text.translate(table)"
      ],
      "metadata": {
        "id": "1AJumsNrhE1y"
      },
      "execution_count": 25,
      "outputs": []
    },
    {
      "cell_type": "code",
      "source": [
        "print(encrypted)"
      ],
      "metadata": {
        "colab": {
          "base_uri": "https://localhost:8080/"
        },
        "id": "unjNzroQhGzT",
        "outputId": "d1185240-f844-4cb2-ceb5-09089abcf716"
      },
      "execution_count": 26,
      "outputs": [
        {
          "output_type": "stream",
          "name": "stdout",
          "text": [
            "hello world\n"
          ]
        }
      ]
    },
    {
      "cell_type": "markdown",
      "source": [
        "**Now we add special characters**"
      ],
      "metadata": {
        "id": "zIndKA7MhSjb"
      }
    },
    {
      "cell_type": "code",
      "source": [
        "import string"
      ],
      "metadata": {
        "id": "R1GaRVWshWZU"
      },
      "execution_count": 27,
      "outputs": []
    },
    {
      "cell_type": "code",
      "source": [
        "def caesar(text, shift, alphabets):\n",
        "  def shift_alphabet(alphabet):\n",
        "    return alphabet[shift:] + alphabet[:shift]\n",
        "\n",
        "  shifted_alphabets = [shift_alphabet(alphabet) for alphabet in alphabets]  # List comprehension for shifted alphabets\n",
        "  final_alphabet = ''.join(alphabets)\n",
        "  final_shifted_alphabet = ''.join(shifted_alphabets)\n",
        "  table = str.maketrans(final_alphabet, final_shifted_alphabet)\n",
        "  return text.translate(table)  # Add return statement"
      ],
      "metadata": {
        "id": "Rmtbgd6yhbdn"
      },
      "execution_count": 36,
      "outputs": []
    },
    {
      "cell_type": "code",
      "source": [
        "plain_text = \"This is a new run. Hello World!\""
      ],
      "metadata": {
        "id": "7AQWkGRtkbJg"
      },
      "execution_count": 37,
      "outputs": []
    },
    {
      "cell_type": "code",
      "source": [
        "print(caesar(plain_text, 5, [string.ascii_lowercase, string.ascii_uppercase, string.punctuation]))"
      ],
      "metadata": {
        "colab": {
          "base_uri": "https://localhost:8080/"
        },
        "id": "iKZElzDykjGZ",
        "outputId": "87e3bcbc-eb7d-4619-ccc3-5debc3e975c8"
      },
      "execution_count": 39,
      "outputs": [
        {
          "output_type": "stream",
          "name": "stdout",
          "text": [
            "Ymnx nx f sjb wzs= Mjqqt Btwqi&\n"
          ]
        }
      ]
    }
  ]
}